{
 "cells": [
  {
   "cell_type": "code",
   "execution_count": 1,
   "metadata": {},
   "outputs": [],
   "source": [
    "import requests"
   ]
  },
  {
   "cell_type": "code",
   "execution_count": 6,
   "metadata": {},
   "outputs": [
    {
     "name": "stdout",
     "output_type": "stream",
     "text": [
      "请输入城市，回车结束：北京\n",
      "5日星期天\n",
      "高温 30℃\n",
      "低温 23℃\n",
      "雷阵雨\n",
      "请输入城市，回车结束：乌托邦\n",
      "未获得\n",
      "请输入城市，回车结束：\n"
     ]
    }
   ],
   "source": [
    "while True:\n",
    "    city = input('请输入城市，回车结束：')\n",
    "    if city:\n",
    "        r = requests.get('http://wthrcdn.etouch.cn/weather_mini?city=%s'%city)\n",
    "        dic = r.json()\n",
    "        if dic.get('data'):\n",
    "            list_forecast = dic['data']['forecast']\n",
    "            dic_data = list_forecast[0]\n",
    "            print(dic_data['date'])\n",
    "            print(dic_data['high'])\n",
    "            print(dic_data['low'])\n",
    "            print(dic_data['type'])\n",
    "        else:\n",
    "            print('未获得')\n",
    "    else:\n",
    "        break"
   ]
  }
 ],
 "metadata": {
  "kernelspec": {
   "display_name": "Python 3",
   "language": "python",
   "name": "python3"
  }
 },
 "nbformat": 4,
 "nbformat_minor": 2
}
