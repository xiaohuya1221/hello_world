{
 "cells": [
  {
   "cell_type": "code",
   "execution_count": 3,
   "metadata": {
    "scrolled": true
   },
   "outputs": [
    {
     "data": {
      "text/html": [
       "<div>\n",
       "<style scoped>\n",
       "    .dataframe tbody tr th:only-of-type {\n",
       "        vertical-align: middle;\n",
       "    }\n",
       "\n",
       "    .dataframe tbody tr th {\n",
       "        vertical-align: top;\n",
       "    }\n",
       "\n",
       "    .dataframe thead th {\n",
       "        text-align: right;\n",
       "    }\n",
       "</style>\n",
       "<table border=\"1\" class=\"dataframe\">\n",
       "  <thead>\n",
       "    <tr style=\"text-align: right;\">\n",
       "      <th></th>\n",
       "      <th>title</th>\n",
       "      <th>company</th>\n",
       "      <th>company_size</th>\n",
       "      <th>industry</th>\n",
       "      <th>type</th>\n",
       "      <th>salary</th>\n",
       "      <th>company_type</th>\n",
       "      <th>source</th>\n",
       "      <th>experience</th>\n",
       "      <th>education</th>\n",
       "      <th>salary2</th>\n",
       "    </tr>\n",
       "  </thead>\n",
       "  <tbody>\n",
       "    <tr>\n",
       "      <th>0</th>\n",
       "      <td>招聘数据分析师</td>\n",
       "      <td>北京越铖国际科技有限公司</td>\n",
       "      <td>20-99人</td>\n",
       "      <td>人事/行政/高级管理</td>\n",
       "      <td>全职</td>\n",
       "      <td>8000-12000</td>\n",
       "      <td>民营</td>\n",
       "      <td>斗米</td>\n",
       "      <td>不限</td>\n",
       "      <td>不限</td>\n",
       "      <td>10000.0</td>\n",
       "    </tr>\n",
       "    <tr>\n",
       "      <th>1</th>\n",
       "      <td>数据分析师</td>\n",
       "      <td>北京新东方教育科技（集团）有限公司</td>\n",
       "      <td>NaN</td>\n",
       "      <td>计算机/互联网/信息技术</td>\n",
       "      <td>全职</td>\n",
       "      <td>12000-20000</td>\n",
       "      <td>民营</td>\n",
       "      <td>OFweek人才网</td>\n",
       "      <td>不限</td>\n",
       "      <td>不限</td>\n",
       "      <td>16000.0</td>\n",
       "    </tr>\n",
       "    <tr>\n",
       "      <th>2</th>\n",
       "      <td>数据分析师(新浪)</td>\n",
       "      <td>新浪网技术(中国)有限公司</td>\n",
       "      <td>2000-5000人</td>\n",
       "      <td>数据分析师</td>\n",
       "      <td>全职</td>\n",
       "      <td>20000-25000</td>\n",
       "      <td>外商独资/办事处</td>\n",
       "      <td>猎聘</td>\n",
       "      <td>3-5年</td>\n",
       "      <td>本科</td>\n",
       "      <td>22500.0</td>\n",
       "    </tr>\n",
       "    <tr>\n",
       "      <th>3</th>\n",
       "      <td>数据分析师</td>\n",
       "      <td>北京美科思远环境科技有限公司</td>\n",
       "      <td>20-99人</td>\n",
       "      <td>环保/环境科学类</td>\n",
       "      <td>全职</td>\n",
       "      <td>12000-20000</td>\n",
       "      <td>股份制</td>\n",
       "      <td>北极星招聘</td>\n",
       "      <td>不限</td>\n",
       "      <td>硕士</td>\n",
       "      <td>16000.0</td>\n",
       "    </tr>\n",
       "    <tr>\n",
       "      <th>4</th>\n",
       "      <td>助理、临床样本库采样人员、软件工程师、数据库管理工程师、机械设计与结构工程师、Android...</td>\n",
       "      <td>中国人民解放军总医院（北京市解放军医学院）</td>\n",
       "      <td>NaN</td>\n",
       "      <td>医疗</td>\n",
       "      <td>全职</td>\n",
       "      <td>面议</td>\n",
       "      <td>公立医院</td>\n",
       "      <td>康强医疗人才网</td>\n",
       "      <td>不限</td>\n",
       "      <td>不限</td>\n",
       "      <td>NaN</td>\n",
       "    </tr>\n",
       "  </tbody>\n",
       "</table>\n",
       "</div>"
      ],
      "text/plain": [
       "                                               title                company  \\\n",
       "0                                            招聘数据分析师           北京越铖国际科技有限公司   \n",
       "1                                              数据分析师      北京新东方教育科技（集团）有限公司   \n",
       "2                                          数据分析师(新浪)          新浪网技术(中国)有限公司   \n",
       "3                                              数据分析师         北京美科思远环境科技有限公司   \n",
       "4  助理、临床样本库采样人员、软件工程师、数据库管理工程师、机械设计与结构工程师、Android...  中国人民解放军总医院（北京市解放军医学院）   \n",
       "\n",
       "  company_size      industry type       salary company_type     source  \\\n",
       "0       20-99人    人事/行政/高级管理   全职   8000-12000           民营         斗米   \n",
       "1          NaN  计算机/互联网/信息技术   全职  12000-20000           民营  OFweek人才网   \n",
       "2   2000-5000人         数据分析师   全职  20000-25000     外商独资/办事处         猎聘   \n",
       "3       20-99人      环保/环境科学类   全职  12000-20000          股份制      北极星招聘   \n",
       "4          NaN            医疗   全职           面议         公立医院    康强医疗人才网   \n",
       "\n",
       "  experience education  salary2  \n",
       "0         不限        不限  10000.0  \n",
       "1         不限        不限  16000.0  \n",
       "2       3-5年        本科  22500.0  \n",
       "3         不限        硕士  16000.0  \n",
       "4         不限        不限      NaN  "
      ]
     },
     "execution_count": 3,
     "metadata": {},
     "output_type": "execute_result"
    }
   ],
   "source": [
    "import pandas as pd\n",
    "import numpy as np\n",
    "data = pd.read_csv('jobs.csv')\n",
    "data_jobs = data.drop_duplicates()\n",
    "data_head = data_jobs.head()\n",
    "data_head"
   ]
  },
  {
   "cell_type": "code",
   "execution_count": 18,
   "metadata": {},
   "outputs": [
    {
     "data": {
      "text/plain": [
       "猎聘           580\n",
       "OFweek人才网     33\n",
       "斗米            17\n",
       "百姓网            5\n",
       "北极星招聘          5\n",
       "普工招聘网          4\n",
       "工厂直聘网          2\n",
       "康强医疗人才网        1\n",
       "Name: source, dtype: int64"
      ]
     },
     "execution_count": 18,
     "metadata": {},
     "output_type": "execute_result"
    }
   ],
   "source": [
    "data_source = data_jobs['source'].value_counts()\n",
    "data_source"
   ]
  },
  {
   "cell_type": "code",
   "execution_count": 30,
   "metadata": {},
   "outputs": [
    {
     "data": {
      "text/plain": [
       "3-5年     0.376147\n",
       "1-3年     0.344037\n",
       "不限       0.183486\n",
       "5-10年    0.091743\n",
       "10年以上    0.004587\n",
       "Name: experience, dtype: float64"
      ]
     },
     "execution_count": 30,
     "metadata": {},
     "output_type": "execute_result"
    }
   ],
   "source": [
    "data2 = data_jobs[data_jobs.title.notnull()]\n",
    "data_experience = data2.loc[data2.title.str.contains('数据分析师',regex=False),'experience'].value_counts(normalize=True)\n",
    "data_experience"
   ]
  },
  {
   "cell_type": "code",
   "execution_count": 31,
   "metadata": {},
   "outputs": [
    {
     "data": {
      "text/plain": [
       "本科    0.800459\n",
       "不限    0.087156\n",
       "硕士    0.068807\n",
       "大专    0.043578\n",
       "Name: education, dtype: float64"
      ]
     },
     "execution_count": 31,
     "metadata": {},
     "output_type": "execute_result"
    }
   ],
   "source": [
    "data_education = data2.loc[data2.title.str.contains('数据分析师',regex=False),'education'].value_counts(normalize=True)\n",
    "data_education"
   ]
  },
  {
   "cell_type": "code",
   "execution_count": 33,
   "metadata": {},
   "outputs": [
    {
     "data": {
      "text/plain": [
       "民营          458\n",
       "上市公司         62\n",
       "外商独资/办事处     45\n",
       "中外合资/合作      42\n",
       "国企           34\n",
       "事业单位          4\n",
       "个人企业          2\n",
       "股份制           1\n",
       "公立医院          1\n",
       "其它            1\n",
       "Name: company_type, dtype: int64"
      ]
     },
     "execution_count": 33,
     "metadata": {},
     "output_type": "execute_result"
    }
   ],
   "source": [
    "title_counts = data_jobs.company_type.value_counts()\n",
    "title_counts"
   ]
  },
  {
   "cell_type": "code",
   "execution_count": 36,
   "metadata": {},
   "outputs": [
    {
     "data": {
      "text/plain": [
       "14409.894688644688"
      ]
     },
     "execution_count": 36,
     "metadata": {},
     "output_type": "execute_result"
    }
   ],
   "source": [
    "salary_mean = data_jobs.salary2.dropna().mean()\n",
    "salary_mean"
   ]
  },
  {
   "cell_type": "code",
   "execution_count": 57,
   "metadata": {
    "scrolled": true
   },
   "outputs": [
    {
     "data": {
      "text/plain": [
       "company\n",
       "xx公司                         25000.0\n",
       "中建材信息技术股份有限公司                25000.0\n",
       "北京某互联网公司                     25000.0\n",
       "北京正东金控信息服务有限公司               25000.0\n",
       "北京永利范思科技有限公司                 25000.0\n",
       "中网数据(北京)股份有限公司               25000.0\n",
       "清控紫荆(北京)教育科技股份有限公司           25000.0\n",
       "云账户技术(天津)有限公司                25000.0\n",
       "以尧企业发展（上海）有限公司               25000.0\n",
       "依托数据分析的，聚合形成个人信用码的新科技平台公司    25000.0\n",
       "Name: salary2, dtype: float64"
      ]
     },
     "execution_count": 57,
     "metadata": {},
     "output_type": "execute_result"
    }
   ],
   "source": [
    "data_jobs.salary2.groupby(data_jobs.company).mean().sort_values(ascending=False).head(10)"
   ]
  },
  {
   "cell_type": "code",
   "execution_count": 47,
   "metadata": {},
   "outputs": [
    {
     "data": {
      "text/html": [
       "<div>\n",
       "<style scoped>\n",
       "    .dataframe tbody tr th:only-of-type {\n",
       "        vertical-align: middle;\n",
       "    }\n",
       "\n",
       "    .dataframe tbody tr th {\n",
       "        vertical-align: top;\n",
       "    }\n",
       "\n",
       "    .dataframe thead th {\n",
       "        text-align: right;\n",
       "    }\n",
       "</style>\n",
       "<table border=\"1\" class=\"dataframe\">\n",
       "  <thead>\n",
       "    <tr style=\"text-align: right;\">\n",
       "      <th></th>\n",
       "      <th>counts</th>\n",
       "    </tr>\n",
       "    <tr>\n",
       "      <th>company</th>\n",
       "      <th></th>\n",
       "    </tr>\n",
       "  </thead>\n",
       "  <tbody>\n",
       "    <tr>\n",
       "      <th>百度在线网络技术(北京)有限公司</th>\n",
       "      <td>7</td>\n",
       "    </tr>\n",
       "    <tr>\n",
       "      <th>车好多旧机动车经纪(北京)有限公司</th>\n",
       "      <td>7</td>\n",
       "    </tr>\n",
       "    <tr>\n",
       "      <th>深圳索信达数据技术有限公司</th>\n",
       "      <td>7</td>\n",
       "    </tr>\n",
       "    <tr>\n",
       "      <th>海南小易到家电子商务有限公司上海分公司</th>\n",
       "      <td>6</td>\n",
       "    </tr>\n",
       "    <tr>\n",
       "      <th>贝壳找房(北京)科技有限公司</th>\n",
       "      <td>5</td>\n",
       "    </tr>\n",
       "    <tr>\n",
       "      <th>苏州皇亭电子有限公司</th>\n",
       "      <td>5</td>\n",
       "    </tr>\n",
       "    <tr>\n",
       "      <th>广联达科技股份有限公司</th>\n",
       "      <td>4</td>\n",
       "    </tr>\n",
       "    <tr>\n",
       "      <th>北京嘀嘀无限科技发展有限公司</th>\n",
       "      <td>4</td>\n",
       "    </tr>\n",
       "    <tr>\n",
       "      <th>北京中油瑞飞信息技术有限责任公司</th>\n",
       "      <td>4</td>\n",
       "    </tr>\n",
       "    <tr>\n",
       "      <th>北京百分点信息科技有限公司</th>\n",
       "      <td>4</td>\n",
       "    </tr>\n",
       "  </tbody>\n",
       "</table>\n",
       "</div>"
      ],
      "text/plain": [
       "                     counts\n",
       "company                    \n",
       "百度在线网络技术(北京)有限公司          7\n",
       "车好多旧机动车经纪(北京)有限公司         7\n",
       "深圳索信达数据技术有限公司             7\n",
       "海南小易到家电子商务有限公司上海分公司       6\n",
       "贝壳找房(北京)科技有限公司            5\n",
       "苏州皇亭电子有限公司                5\n",
       "广联达科技股份有限公司               4\n",
       "北京嘀嘀无限科技发展有限公司            4\n",
       "北京中油瑞飞信息技术有限责任公司          4\n",
       "北京百分点信息科技有限公司             4"
      ]
     },
     "execution_count": 47,
     "metadata": {},
     "output_type": "execute_result"
    }
   ],
   "source": [
    "pd.DataFrame({'counts':data_jobs['title'].groupby(data_jobs.company).count()}).sort_values(by='counts',ascending=False).head(10)"
   ]
  },
  {
   "cell_type": "code",
   "execution_count": 51,
   "metadata": {},
   "outputs": [
    {
     "data": {
      "text/plain": [
       "company_type\n",
       "外商独资/办事处    17468.750000\n",
       "股份制         16000.000000\n",
       "民营          14378.595718\n",
       "上市公司        14367.346939\n",
       "事业单位        14166.666667\n",
       "中外合资/合作     13357.142857\n",
       "个人企业        13250.000000\n",
       "国企          12846.153846\n",
       "其它          10000.000000\n",
       "公立医院                 NaN\n",
       "Name: salary2, dtype: float64"
      ]
     },
     "execution_count": 51,
     "metadata": {},
     "output_type": "execute_result"
    }
   ],
   "source": [
    "data_jobs.salary2.groupby(data_jobs.company_type).mean().sort_values(ascending=False).head(10)"
   ]
  },
  {
   "cell_type": "code",
   "execution_count": null,
   "metadata": {},
   "outputs": [],
   "source": [
    "# .groupby()返回的是pandas的groupby对象。并未进行任何计算，但它包括了接下来计算所需的数据。计算之后就变成了series或者df？？？"
   ]
  }
 ],
 "metadata": {
  "kernelspec": {
   "display_name": "Python 3",
   "language": "python",
   "name": "python3"
  },
  "language_info": {
   "codemirror_mode": {
    "name": "ipython",
    "version": 3
   },
   "file_extension": ".py",
   "mimetype": "text/x-python",
   "name": "python",
   "nbconvert_exporter": "python",
   "pygments_lexer": "ipython3",
   "version": "3.7.3"
  }
 },
 "nbformat": 4,
 "nbformat_minor": 2
}
